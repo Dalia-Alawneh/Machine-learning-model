{
 "cells": [
  {
   "cell_type": "code",
   "execution_count": 10,
   "metadata": {},
   "outputs": [
    {
     "name": "stderr",
     "output_type": "stream",
     "text": [
      "[nltk_data] Downloading package stopwords to\n",
      "[nltk_data]     C:\\Users\\zayto\\AppData\\Roaming\\nltk_data...\n",
      "[nltk_data]   Package stopwords is already up-to-date!\n",
      "[nltk_data] Downloading package punkt to\n",
      "[nltk_data]     C:\\Users\\zayto\\AppData\\Roaming\\nltk_data...\n",
      "[nltk_data]   Package punkt is already up-to-date!\n"
     ]
    },
    {
     "data": {
      "text/plain": [
       "True"
      ]
     },
     "execution_count": 10,
     "metadata": {},
     "output_type": "execute_result"
    }
   ],
   "source": [
    "import nltk\n",
    "nltk.download('stopwords')\n",
    "nltk.download('punkt')"
   ]
  },
  {
   "cell_type": "code",
   "execution_count": 2,
   "metadata": {},
   "outputs": [],
   "source": [
    "# imports\n",
    "import itertools\n",
    "from nltk.corpus import stopwords\n",
    "import nltk\n",
    "import sklearn\n",
    "from sklearn.feature_extraction.text import TfidfVectorizer\n",
    "from sklearn.metrics.pairwise import cosine_similarity\n",
    "from sklearn.model_selection import train_test_split"
   ]
  },
  {
   "cell_type": "code",
   "execution_count": 3,
   "metadata": {},
   "outputs": [],
   "source": [
    "# define a list of symptoms\n",
    "symptoms = ['itching', 'skin_rash', 'nodal_skin_eruptions',\n",
    "            'continuous_sneezing', 'shivering', 'chills', 'joint_pain',\n",
    "            'stomach_pain', 'acidity', 'ulcers_on_tongue', 'muscle_wasting',\n",
    "            'vomiting', 'burning_micturition', 'spotting_ urination',\n",
    "            'fatigue', 'weight_gain', 'anxiety', 'cold_hands_and_feets',\n",
    "            'mood_swings', 'weight_loss', 'restlessness', 'lethargy',\n",
    "            'patches_in_throat', 'irregular_sugar_level', 'cough',\n",
    "            'high_fever', 'sunken_eyes', 'breathlessness', 'sweating',\n",
    "            'dehydration', 'indigestion', 'headache', 'yellowish_skin',\n",
    "            'dark_urine', 'nausea', 'loss_of_appetite', 'pain_behind_the_eyes',\n",
    "            'back_pain', 'constipation', 'abdominal_pain', 'diarrhoea',\n",
    "            'mild_fever', 'yellow_urine', 'yellowing_of_eyes',\n",
    "            'acute_liver_failure', 'fluid_overload', 'swelling_of_stomach',\n",
    "            'swelled_lymph_nodes', 'malaise', 'blurred_and_distorted_vision',\n",
    "            'phlegm', 'throat_irritation', 'redness_of_eyes', 'sinus_pressure',\n",
    "            'runny_nose', 'congestion', 'chest_pain', 'weakness_in_limbs',\n",
    "            'fast_heart_rate', 'pain_during_bowel_movements',\n",
    "            'pain_in_anal_region', 'bloody_stool', 'irritation_in_anus',\n",
    "            'neck_pain', 'dizziness', 'cramps', 'bruising', 'obesity',\n",
    "            'swollen_legs', 'swollen_blood_vessels', 'puffy_face_and_eyes',\n",
    "            'enlarged_thyroid', 'brittle_nails', 'swollen_extremeties',\n",
    "            'excessive_hunger', 'extra_marital_contacts',\n",
    "            'drying_and_tingling_lips', 'slurred_speech', 'knee_pain',\n",
    "            'hip_joint_pain', 'muscle_weakness', 'stiff_neck',\n",
    "            'swelling_joints', 'movement_stiffness', 'spinning_movements',\n",
    "            'loss_of_balance', 'unsteadiness', 'weakness_of_one_body_side',\n",
    "            'loss_of_smell', 'bladder_discomfort', 'foul_smell_of urine',\n",
    "            'continuous_feel_of_urine', 'passage_of_gases', 'internal_itching',\n",
    "            'toxic_look_(typhos)', 'depression', 'irritability', 'muscle_pain',\n",
    "            'altered_sensorium', 'red_spots_over_body', 'belly_pain',\n",
    "            'abnormal_menstruation', 'dischromic _patches',\n",
    "            'watering_from_eyes', 'increased_appetite', 'polyuria',\n",
    "            'family_history', 'mucoid_sputum', 'rusty_sputum',\n",
    "            'lack_of_concentration', 'visual_disturbances',\n",
    "            'receiving_blood_transfusion', 'receiving_unsterile_injections',\n",
    "            'coma', 'stomach_bleeding', 'distention_of_abdomen',\n",
    "            'history_of_alcohol_consumption', 'fluid_overload.1',\n",
    "            'blood_in_sputum', 'prominent_veins_on_calf', 'palpitations',\n",
    "            'painful_walking', 'pus_filled_pimples', 'blackheads', 'scurring',\n",
    "            'skin_peeling', 'silver_like_dusting', 'small_dents_in_nails',\n",
    "            'inflammatory_nails', 'blister', 'red_sore_around_nose',\n",
    "            'yellow_crust_ooze']"
   ]
  },
  {
   "cell_type": "code",
   "execution_count": 5,
   "metadata": {},
   "outputs": [
    {
     "name": "stdout",
     "output_type": "stream",
     "text": [
      "['patient', 'suffering', 'itching', 'skin', 'rash', 'nodal', 'skin', 'eruptions', 'continuous', 'sneezing']\n",
      "['itching']\n"
     ]
    }
   ],
   "source": [
    "# define the user text\n",
    "\n",
    "############## tokenize text ######################\n",
    "\n",
    "\n",
    "import pickle\n",
    "\n",
    "\n",
    "def process_text(text):\n",
    "    # Tokenize the text\n",
    "    tokens = nltk.word_tokenize(text)\n",
    "\n",
    "    # Remove stop words\n",
    "    stop_words = set(stopwords.words(\"english\"))\n",
    "    return [\n",
    "        token\n",
    "        for token in tokens\n",
    "        if token.lower() not in stop_words\n",
    "        and token != '.'\n",
    "        and token != 'bit'\n",
    "        and token != 'little'\n",
    "        and token != 'also'\n",
    "        and token != 'from'\n",
    "        and token != 'suffer'\n",
    "    ]\n",
    "\n",
    "\n",
    "list_of_combinations = []\n",
    "def get_combinations(text, process_text):\n",
    "    filtered_words = process_text(text)\n",
    "    print(filtered_words)\n",
    "    if len(filtered_words) == 1:\n",
    "        return filtered_words\n",
    "    if len(filtered_words) >= 2:  \n",
    "        combinations = itertools.combinations(filtered_words, 3)\n",
    "# convert the combinations to sentences\n",
    "        for combination in combinations:\n",
    "            sentence = ' '.join(combination)\n",
    "            list_of_combinations.append(sentence)\n",
    "            return list_of_combinations\n",
    "############### هون بجيب كل احتمالات الكلمات ##################\n",
    "# get all combinations of length 3             \n",
    "    \n",
    "\n",
    "list_of_combinations = get_combinations(\"The patient suffering from itching skin rash and nodal skin eruptions and continuous sneezing\", process_text)\n",
    "\n",
    "\n",
    "\n",
    "# create a function to examin similarity\n",
    "\n",
    "\n",
    "def getSimilarity(extracted_list):\n",
    "\n",
    "    # create the transform\n",
    "    vectorizer = TfidfVectorizer()\n",
    "# encode the sentences\n",
    "    vectors = vectorizer.fit_transform(extracted_list)\n",
    "\n",
    "    return cosine_similarity(vectors[0], vectors[1])\n",
    "\n",
    "\n",
    "def get_symptoms():\n",
    "    extracted_symptoms = []\n",
    "    for symptom in symptoms:\n",
    "    # check if the symptom is mentioned in the user text\n",
    "        norm_symptom = symptom.replace(\"_\", \" \")\n",
    "        for combin in list_of_combinations:\n",
    "            if (\n",
    "            getSimilarity([combin, norm_symptom]) > 0.40\n",
    "            and symptom not in extracted_symptoms\n",
    "        ):\n",
    "                extracted_symptoms.append(symptom)\n",
    "    return extracted_symptoms\n",
    "\n",
    "print(get_symptoms())\n",
    "\n"
   ]
  },
  {
   "cell_type": "markdown",
   "metadata": {},
   "source": [
    "Prediction"
   ]
  },
  {
   "cell_type": "code",
   "execution_count": 8,
   "metadata": {},
   "outputs": [],
   "source": [
    "import pandas as pd\n",
    "from sklearn.tree import DecisionTreeClassifier\n",
    "from sklearn.ensemble import RandomForestClassifier\n",
    "from sklearn.ensemble import AdaBoostClassifier\n",
    "from sklearn.metrics import accuracy_score"
   ]
  },
  {
   "cell_type": "code",
   "execution_count": 42,
   "metadata": {},
   "outputs": [],
   "source": [
    "df = pd.read_csv('../../data/Training - Training.csv')"
   ]
  },
  {
   "cell_type": "code",
   "execution_count": 43,
   "metadata": {},
   "outputs": [
    {
     "data": {
      "text/html": [
       "<div>\n",
       "<style scoped>\n",
       "    .dataframe tbody tr th:only-of-type {\n",
       "        vertical-align: middle;\n",
       "    }\n",
       "\n",
       "    .dataframe tbody tr th {\n",
       "        vertical-align: top;\n",
       "    }\n",
       "\n",
       "    .dataframe thead th {\n",
       "        text-align: right;\n",
       "    }\n",
       "</style>\n",
       "<table border=\"1\" class=\"dataframe\">\n",
       "  <thead>\n",
       "    <tr style=\"text-align: right;\">\n",
       "      <th></th>\n",
       "      <th>itching</th>\n",
       "      <th>skin_rash</th>\n",
       "      <th>nodal_skin_eruptions</th>\n",
       "      <th>continuous_sneezing</th>\n",
       "      <th>shivering</th>\n",
       "      <th>chills</th>\n",
       "      <th>joint_pain</th>\n",
       "      <th>stomach_pain</th>\n",
       "      <th>acidity</th>\n",
       "      <th>ulcers_on_tongue</th>\n",
       "      <th>...</th>\n",
       "      <th>blackheads</th>\n",
       "      <th>scurring</th>\n",
       "      <th>skin_peeling</th>\n",
       "      <th>silver_like_dusting</th>\n",
       "      <th>small_dents_in_nails</th>\n",
       "      <th>inflammatory_nails</th>\n",
       "      <th>blister</th>\n",
       "      <th>red_sore_around_nose</th>\n",
       "      <th>yellow_crust_ooze</th>\n",
       "      <th>prognosis</th>\n",
       "    </tr>\n",
       "  </thead>\n",
       "  <tbody>\n",
       "    <tr>\n",
       "      <th>0</th>\n",
       "      <td>1</td>\n",
       "      <td>1</td>\n",
       "      <td>1</td>\n",
       "      <td>0</td>\n",
       "      <td>0</td>\n",
       "      <td>0</td>\n",
       "      <td>0</td>\n",
       "      <td>0</td>\n",
       "      <td>0</td>\n",
       "      <td>0</td>\n",
       "      <td>...</td>\n",
       "      <td>0</td>\n",
       "      <td>0</td>\n",
       "      <td>0</td>\n",
       "      <td>0</td>\n",
       "      <td>0</td>\n",
       "      <td>0</td>\n",
       "      <td>0</td>\n",
       "      <td>0</td>\n",
       "      <td>0</td>\n",
       "      <td>Dermatology clinic</td>\n",
       "    </tr>\n",
       "    <tr>\n",
       "      <th>1</th>\n",
       "      <td>0</td>\n",
       "      <td>1</td>\n",
       "      <td>1</td>\n",
       "      <td>0</td>\n",
       "      <td>0</td>\n",
       "      <td>0</td>\n",
       "      <td>0</td>\n",
       "      <td>0</td>\n",
       "      <td>0</td>\n",
       "      <td>0</td>\n",
       "      <td>...</td>\n",
       "      <td>0</td>\n",
       "      <td>0</td>\n",
       "      <td>0</td>\n",
       "      <td>0</td>\n",
       "      <td>0</td>\n",
       "      <td>0</td>\n",
       "      <td>0</td>\n",
       "      <td>0</td>\n",
       "      <td>0</td>\n",
       "      <td>Dermatology clinic</td>\n",
       "    </tr>\n",
       "    <tr>\n",
       "      <th>2</th>\n",
       "      <td>1</td>\n",
       "      <td>0</td>\n",
       "      <td>1</td>\n",
       "      <td>0</td>\n",
       "      <td>0</td>\n",
       "      <td>0</td>\n",
       "      <td>0</td>\n",
       "      <td>0</td>\n",
       "      <td>0</td>\n",
       "      <td>0</td>\n",
       "      <td>...</td>\n",
       "      <td>0</td>\n",
       "      <td>0</td>\n",
       "      <td>0</td>\n",
       "      <td>0</td>\n",
       "      <td>0</td>\n",
       "      <td>0</td>\n",
       "      <td>0</td>\n",
       "      <td>0</td>\n",
       "      <td>0</td>\n",
       "      <td>Dermatology clinic</td>\n",
       "    </tr>\n",
       "    <tr>\n",
       "      <th>3</th>\n",
       "      <td>1</td>\n",
       "      <td>1</td>\n",
       "      <td>0</td>\n",
       "      <td>0</td>\n",
       "      <td>0</td>\n",
       "      <td>0</td>\n",
       "      <td>0</td>\n",
       "      <td>0</td>\n",
       "      <td>0</td>\n",
       "      <td>0</td>\n",
       "      <td>...</td>\n",
       "      <td>0</td>\n",
       "      <td>0</td>\n",
       "      <td>0</td>\n",
       "      <td>0</td>\n",
       "      <td>0</td>\n",
       "      <td>0</td>\n",
       "      <td>0</td>\n",
       "      <td>0</td>\n",
       "      <td>0</td>\n",
       "      <td>Dermatology clinic</td>\n",
       "    </tr>\n",
       "    <tr>\n",
       "      <th>4</th>\n",
       "      <td>1</td>\n",
       "      <td>1</td>\n",
       "      <td>1</td>\n",
       "      <td>0</td>\n",
       "      <td>0</td>\n",
       "      <td>0</td>\n",
       "      <td>0</td>\n",
       "      <td>0</td>\n",
       "      <td>0</td>\n",
       "      <td>0</td>\n",
       "      <td>...</td>\n",
       "      <td>0</td>\n",
       "      <td>0</td>\n",
       "      <td>0</td>\n",
       "      <td>0</td>\n",
       "      <td>0</td>\n",
       "      <td>0</td>\n",
       "      <td>0</td>\n",
       "      <td>0</td>\n",
       "      <td>0</td>\n",
       "      <td>Dermatology clinic</td>\n",
       "    </tr>\n",
       "  </tbody>\n",
       "</table>\n",
       "<p>5 rows × 133 columns</p>\n",
       "</div>"
      ],
      "text/plain": [
       "   itching  skin_rash  nodal_skin_eruptions  continuous_sneezing  shivering  \\\n",
       "0        1          1                     1                    0          0   \n",
       "1        0          1                     1                    0          0   \n",
       "2        1          0                     1                    0          0   \n",
       "3        1          1                     0                    0          0   \n",
       "4        1          1                     1                    0          0   \n",
       "\n",
       "   chills  joint_pain  stomach_pain  acidity  ulcers_on_tongue  ...  \\\n",
       "0       0           0             0        0                 0  ...   \n",
       "1       0           0             0        0                 0  ...   \n",
       "2       0           0             0        0                 0  ...   \n",
       "3       0           0             0        0                 0  ...   \n",
       "4       0           0             0        0                 0  ...   \n",
       "\n",
       "   blackheads  scurring  skin_peeling  silver_like_dusting  \\\n",
       "0           0         0             0                    0   \n",
       "1           0         0             0                    0   \n",
       "2           0         0             0                    0   \n",
       "3           0         0             0                    0   \n",
       "4           0         0             0                    0   \n",
       "\n",
       "   small_dents_in_nails  inflammatory_nails  blister  red_sore_around_nose  \\\n",
       "0                     0                   0        0                     0   \n",
       "1                     0                   0        0                     0   \n",
       "2                     0                   0        0                     0   \n",
       "3                     0                   0        0                     0   \n",
       "4                     0                   0        0                     0   \n",
       "\n",
       "   yellow_crust_ooze           prognosis  \n",
       "0                  0  Dermatology clinic  \n",
       "1                  0  Dermatology clinic  \n",
       "2                  0  Dermatology clinic  \n",
       "3                  0  Dermatology clinic  \n",
       "4                  0  Dermatology clinic  \n",
       "\n",
       "[5 rows x 133 columns]"
      ]
     },
     "execution_count": 43,
     "metadata": {},
     "output_type": "execute_result"
    }
   ],
   "source": [
    "df.head()"
   ]
  },
  {
   "cell_type": "code",
   "execution_count": 44,
   "metadata": {},
   "outputs": [],
   "source": [
    "disease=['Brain and nerves clinic','Dermatology clinic','Ear, nose and throat clinic','Emergency','General clinic',\n",
    "'Heart, veins and arteries clinic','Internal clinic','Oncology clinic','Orthopedic clinic','Respiratory clinic','Urology clinic', 'Endocrinology clinic','Neurology and brain clinic']\n"
   ]
  },
  {
   "cell_type": "code",
   "execution_count": null,
   "metadata": {},
   "outputs": [],
   "source": []
  },
  {
   "cell_type": "code",
   "execution_count": 45,
   "metadata": {},
   "outputs": [],
   "source": [
    "result=[]\n",
    "for i in range(0,len(symptoms)):\n",
    "    result.append(0)"
   ]
  },
  {
   "cell_type": "code",
   "execution_count": 47,
   "metadata": {},
   "outputs": [],
   "source": [
    "df.replace({'prognosis':{'Brain and nerves clinic':0,'Dermatology clinic':1,'Ear, nose and throat clinic':2,'Emergency':3,'General clinic':4,\n",
    "'Heart, veins and arteries clinic':5,'Internal clinic':6,'Oncology clinic':7,'Orthopedic clinic':8,'Respiratory clinic':9,'Urology clinic':10, 'Endocrinology clinic':11,'Neurology and brain clinic':12}},inplace=True)"
   ]
  },
  {
   "cell_type": "code",
   "execution_count": 52,
   "metadata": {},
   "outputs": [
    {
     "data": {
      "text/plain": [
       "array([6, 0, 9, ..., 6, 5, 2])"
      ]
     },
     "execution_count": 52,
     "metadata": {},
     "output_type": "execute_result"
    }
   ],
   "source": [
    "import numpy as np\n",
    "from sklearn.model_selection import train_test_split\n",
    "#split data\n",
    "X = df.drop('prognosis', axis = 1)\n",
    "y = df['prognosis']\n",
    "X_train, X_test, y_train, y_test = train_test_split(X, y, test_size = 0.3, random_state = 40)\n",
    "np.ravel(y_train)"
   ]
  },
  {
   "cell_type": "code",
   "execution_count": 53,
   "metadata": {},
   "outputs": [],
   "source": [
    "df['itching'] = df['itching'].astype('int')\n",
    "df['skin_rash'] = df['skin_rash'].astype('int')\n",
    "df['nodal_skin_eruptions'] = df['nodal_skin_eruptions'].astype('int')\n",
    "df['continuous_sneezing'] = df['continuous_sneezing'].astype('int')\n",
    "df['shivering'] = df['shivering'].astype('int')\n",
    "df['chills'] = df['chills'].astype('int')\n",
    "df['joint_pain'] = df['joint_pain'].astype('int')\n",
    "df['stomach_pain'] = df['stomach_pain'].astype('int')\n",
    "df['acidity'] = df['acidity'].astype('int')\n",
    "df['ulcers_on_tongue'] = df['ulcers_on_tongue'].astype('int')\n",
    "df['muscle_wasting'] = df['muscle_wasting'].astype('int')\n",
    "df['vomiting'] = df['vomiting'].astype('int')\n",
    "df['burning_micturition'] = df['burning_micturition'].astype('int')\n",
    "df['spotting_ urination'] = df['spotting_ urination'].astype('int')\n",
    "df['fatigue'] = df['fatigue'].astype('int')\n",
    "df['weight_gain'] = df['weight_gain'].astype('int')\n",
    "df['anxiety'] = df['anxiety'].astype('int')\n",
    "df['cold_hands_and_feets'] = df['cold_hands_and_feets'].astype('int')\n",
    "df['mood_swings'] = df['mood_swings'].astype('int')\n",
    "df['weight_loss'] = df['weight_loss'].astype('int')\n",
    "df['restlessness'] = df['restlessness'].astype('int')\n",
    "df['lethargy'] = df['lethargy'].astype('int')\n",
    "df['patches_in_throat'] = df['patches_in_throat'].astype('int')\n",
    "df['irregular_sugar_level'] = df['irregular_sugar_level'].astype('int')\n",
    "df['cough'] = df['cough'].astype('int')\n",
    "df['high_fever'] = df['high_fever'].astype('int')\n",
    "df['sunken_eyes'] = df['sunken_eyes'].astype('int')\n",
    "df['breathlessness'] = df['breathlessness'].astype('int')\n",
    "df['sweating'] = df['sweating'].astype('int')\n",
    "df['dehydration'] = df['dehydration'].astype('int')\n",
    "df['indigestion'] = df['indigestion'].astype('int')\n",
    "df['headache'] = df['headache'].astype('int')\n",
    "df['yellowish_skin'] = df['yellowish_skin'].astype('int')\n",
    "df['dark_urine'] = df['dark_urine'].astype('int')\n",
    "df['nausea'] = df['nausea'].astype('int')\n",
    "df['loss_of_appetite'] = df['loss_of_appetite'].astype('int')\n",
    "df['pain_behind_the_eyes'] = df['pain_behind_the_eyes'].astype('int')\n",
    "df['back_pain'] = df['back_pain'].astype('int')\n",
    "df['constipation'] = df['constipation'].astype('int')\n",
    "df['abdominal_pain'] = df['abdominal_pain'].astype('int')\n",
    "df['diarrhoea'] = df['diarrhoea'].astype('int')\n",
    "df['mild_fever'] = df['mild_fever'].astype('int')\n",
    "df['yellow_urine'] = df['yellow_urine'].astype('int')\n",
    "df['yellowing_of_eyes'] = df['yellowing_of_eyes'].astype('int')\n",
    "df['acute_liver_failure'] = df['acute_liver_failure'].astype('int')\n",
    "df['fluid_overload'] = df['fluid_overload'].astype('int')\n",
    "df['swelling_of_stomach'] = df['swelling_of_stomach'].astype('int')\n",
    "df['swelled_lymph_nodes'] = df['swelled_lymph_nodes'].astype('int')\n",
    "df['malaise'] = df['malaise'].astype('int')\n",
    "df['blurred_and_distorted_vision'] = df['blurred_and_distorted_vision'].astype('int')\n",
    "df['phlegm'] = df['phlegm'].astype('int')\n",
    "df['throat_irritation'] = df['throat_irritation'].astype('int')\n",
    "df['redness_of_eyes'] = df['redness_of_eyes'].astype('int')\n",
    "df['sinus_pressure'] = df['sinus_pressure'].astype('int')\n",
    "df['runny_nose'] = df['runny_nose'].astype('int')\n",
    "df['congestion'] = df['congestion'].astype('int')\n",
    "df['chest_pain'] = df['chest_pain'].astype('int')\n",
    "df['weakness_in_limbs'] = df['weakness_in_limbs'].astype('int')\n",
    "df['fast_heart_rate'] = df['fast_heart_rate'].astype('int')\n",
    "df['pain_during_bowel_movements'] = df['pain_during_bowel_movements'].astype('int')\n",
    "df['pain_in_anal_region'] = df['pain_in_anal_region'].astype('int')\n",
    "df['bloody_stool'] = df['bloody_stool'].astype('int')\n",
    "df['irritation_in_anus'] = df['irritation_in_anus'].astype('int')\n",
    "df['neck_pain'] = df['neck_pain'].astype('int')\n",
    "df['dizziness'] = df['dizziness'].astype('int')\n",
    "df['cramps'] = df['cramps'].astype('int')\n",
    "df['bruising'] = df['bruising'].astype('int')\n",
    "df['obesity'] = df['obesity'].astype('int')\n",
    "df['swollen_legs'] = df['swollen_legs'].astype('int')\n",
    "df['swollen_blood_vessels'] = df['swollen_blood_vessels'].astype('int')\n",
    "df['puffy_face_and_eyes'] = df['puffy_face_and_eyes'].astype('int')\n",
    "df['enlarged_thyroid'] = df['enlarged_thyroid'].astype('int')\n",
    "df['brittle_nails'] = df['brittle_nails'].astype('int')\n",
    "df['swollen_extremeties'] = df['swollen_extremeties'].astype('int')\n",
    "df['excessive_hunger'] = df['excessive_hunger'].astype('int')\n",
    "df['extra_marital_contacts'] = df['extra_marital_contacts'].astype('int')\n",
    "df['drying_and_tingling_lips'] = df['drying_and_tingling_lips'].astype('int')\n",
    "df['slurred_speech'] = df['slurred_speech'].astype('int')\n",
    "df['knee_pain'] = df['knee_pain'].astype('int')\n",
    "df['hip_joint_pain'] = df['hip_joint_pain'].astype('int')\n",
    "df['muscle_weakness'] = df['muscle_weakness'].astype('int')\n",
    "df['stiff_neck'] = df['stiff_neck'].astype('int')\n",
    "df['swelling_joints'] = df['swelling_joints'].astype('int')\n",
    "df['movement_stiffness'] = df['movement_stiffness'].astype('int')\n",
    "df['spinning_movements'] = df['spinning_movements'].astype('int')\n",
    "df['loss_of_balance'] = df['loss_of_balance'].astype('int')\n",
    "df['unsteadiness'] = df['unsteadiness'].astype('int')\n",
    "df['weakness_of_one_body_side'] = df['weakness_of_one_body_side'].astype('int')\n",
    "df['loss_of_smell'] = df['loss_of_smell'].astype('int')\n",
    "df['bladder_discomfort'] = df['bladder_discomfort'].astype('int')\n",
    "df['foul_smell_of urine'] = df['foul_smell_of urine'].astype('int')\n",
    "df['continuous_feel_of_urine'] = df['continuous_feel_of_urine'].astype('int')\n",
    "df['passage_of_gases'] = df['passage_of_gases'].astype('int')\n",
    "df['internal_itching'] = df['internal_itching'].astype('int')\n",
    "df['toxic_look_(typhos)'] = df['toxic_look_(typhos)'].astype('int')\n",
    "df['depression'] = df['depression'].astype('int')\n",
    "df['irritability'] = df['irritability'].astype('int')\n",
    "df['muscle_pain'] = df['muscle_pain'].astype('int')\n",
    "df['altered_sensorium'] = df['altered_sensorium'].astype('int')\n",
    "df['red_spots_over_body'] = df['red_spots_over_body'].astype('int')\n",
    "df['belly_pain'] = df['belly_pain'].astype('int')\n",
    "df['abnormal_menstruation'] = df['abnormal_menstruation'].astype('int')\n",
    "df['dischromic _patches'] = df['dischromic _patches'].astype('int')\n",
    "df['watering_from_eyes'] = df['watering_from_eyes'].astype('int')\n",
    "df['increased_appetite'] = df['increased_appetite'].astype('int')\n",
    "df['polyuria'] = df['polyuria'].astype('int')\n",
    "df['family_history'] = df['family_history'].astype('int')\n",
    "df['mucoid_sputum'] = df['mucoid_sputum'].astype('int')\n",
    "df['rusty_sputum'] = df['rusty_sputum'].astype('int')\n",
    "df['lack_of_concentration'] = df['lack_of_concentration'].astype('int')\n",
    "df['visual_disturbances'] = df['visual_disturbances'].astype('int')\n",
    "df['receiving_blood_transfusion'] = df['receiving_blood_transfusion'].astype('int')\n",
    "df['receiving_unsterile_injections'] = df['receiving_unsterile_injections'].astype('int')\n",
    "df['coma'] = df['coma'].astype('int')\n",
    "df['stomach_bleeding'] = df['stomach_bleeding'].astype('int')\n",
    "df['distention_of_abdomen'] = df['distention_of_abdomen'].astype('int')\n",
    "df['history_of_alcohol_consumption'] = df['history_of_alcohol_consumption'].astype('int')\n",
    "df['fluid_overload'] = df['fluid_overload'].astype('int')\n",
    "df['blood_in_sputum'] = df['blood_in_sputum'].astype('int')\n",
    "df['prominent_veins_on_calf'] = df['prominent_veins_on_calf'].astype('int')\n",
    "df['palpitations'] = df['palpitations'].astype('int')\n",
    "df['painful_walking'] = df['painful_walking'].astype('int')\n",
    "df['pus_filled_pimples'] = df['pus_filled_pimples'].astype('int')\n",
    "df['blackheads'] = df['blackheads'].astype('int')\n",
    "df['scurring'] = df['scurring'].astype('int')\n",
    "df['skin_peeling'] = df['skin_peeling'].astype('int')\n",
    "df['silver_like_dusting'] = df['silver_like_dusting'].astype('int')\n",
    "df['small_dents_in_nails'] = df['small_dents_in_nails'].astype('int')\n",
    "df['inflammatory_nails'] = df['inflammatory_nails'].astype('int')\n",
    "df['blister'] = df['blister'].astype('int')\n",
    "df['red_sore_around_nose'] = df['red_sore_around_nose'].astype('int')\n",
    "df['yellow_crust_ooze'] = df['yellow_crust_ooze'].astype('int')\n",
    "df['prognosis'] = df['prognosis'].astype('int')"
   ]
  },
  {
   "cell_type": "code",
   "execution_count": 54,
   "metadata": {},
   "outputs": [
    {
     "name": "stderr",
     "output_type": "stream",
     "text": [
      "[Parallel(n_jobs=1)]: Using backend SequentialBackend with 1 concurrent workers.\n",
      "[Parallel(n_jobs=1)]: Done 100 out of 100 | elapsed:    0.1s finished\n",
      "[Parallel(n_jobs=1)]: Using backend SequentialBackend with 1 concurrent workers.\n"
     ]
    },
    {
     "name": "stdout",
     "output_type": "stream",
     "text": [
      "Training set score: 1.0000\n",
      "Test set score: 1.0000\n"
     ]
    },
    {
     "name": "stderr",
     "output_type": "stream",
     "text": [
      "[Parallel(n_jobs=1)]: Done 100 out of 100 | elapsed:    0.0s finished\n",
      "[Parallel(n_jobs=1)]: Using backend SequentialBackend with 1 concurrent workers.\n",
      "[Parallel(n_jobs=1)]: Done 100 out of 100 | elapsed:    0.0s finished\n",
      "[Parallel(n_jobs=1)]: Using backend SequentialBackend with 1 concurrent workers.\n",
      "[Parallel(n_jobs=1)]: Done 100 out of 100 | elapsed:    0.0s finished\n"
     ]
    }
   ],
   "source": [
    "from sklearn.metrics import confusion_matrix, classification_report\n",
    "from sklearn.metrics import mean_absolute_error , mean_absolute_percentage_error , mean_squared_error , accuracy_score\n",
    "from sklearn.ensemble import RandomForestClassifier\n",
    "from sklearn.neighbors import KNeighborsClassifier\n",
    "from sklearn.tree import DecisionTreeClassifier\n",
    "from sklearn.linear_model import LogisticRegression\n",
    "from sklearn.preprocessing import StandardScaler\n",
    "from sklearn import metrics\n",
    "rf = RandomForestClassifier(random_state = 42, max_features = 'sqrt', n_jobs = 1, verbose = 1).fit(X_train, y_train)\n",
    "\n",
    "print('Training set score: {:.4f}'.format(rf.score(X_train, y_train)))\n",
    "print('Test set score: {:.4f}'.format(rf.score(X_test, y_test)))\n",
    "\n",
    "y_pred=rf.predict(X_test)\n"
   ]
  },
  {
   "cell_type": "code",
   "execution_count": 55,
   "metadata": {},
   "outputs": [
    {
     "ename": "NameError",
     "evalue": "name 'forest' is not defined",
     "output_type": "error",
     "traceback": [
      "\u001b[1;31m---------------------------------------------------------------------------\u001b[0m",
      "\u001b[1;31mNameError\u001b[0m                                 Traceback (most recent call last)",
      "Cell \u001b[1;32mIn[55], line 1\u001b[0m\n\u001b[1;32m----> 1\u001b[0m \u001b[39mprint\u001b[39m(\u001b[39m'\u001b[39m\u001b[39mTraining set score: \u001b[39m\u001b[39m{:.4f}\u001b[39;00m\u001b[39m'\u001b[39m\u001b[39m.\u001b[39mformat(forest\u001b[39m.\u001b[39mscore(X_train, y_train)))\n\u001b[0;32m      3\u001b[0m \u001b[39mprint\u001b[39m(\u001b[39m'\u001b[39m\u001b[39mTest set score: \u001b[39m\u001b[39m{:.4f}\u001b[39;00m\u001b[39m'\u001b[39m\u001b[39m.\u001b[39mformat(forest\u001b[39m.\u001b[39mscore(X_test, y_test)))\n",
      "\u001b[1;31mNameError\u001b[0m: name 'forest' is not defined"
     ]
    }
   ],
   "source": [
    "\n",
    "print('Training set score: {:.4f}'.format(forest.score(X_train, y_train)))\n",
    "\n",
    "print('Test set score: {:.4f}'.format(forest.score(X_test, y_test)))"
   ]
  },
  {
   "cell_type": "code",
   "execution_count": 56,
   "metadata": {},
   "outputs": [
    {
     "ename": "NameError",
     "evalue": "name 'forest' is not defined",
     "output_type": "error",
     "traceback": [
      "\u001b[1;31m---------------------------------------------------------------------------\u001b[0m",
      "\u001b[1;31mNameError\u001b[0m                                 Traceback (most recent call last)",
      "Cell \u001b[1;32mIn[56], line 1\u001b[0m\n\u001b[1;32m----> 1\u001b[0m \u001b[39mprint\u001b[39m(\u001b[39mf\u001b[39m\u001b[39m'\u001b[39m\u001b[39m Train score: \u001b[39m\u001b[39m{\u001b[39;00m\u001b[39mround\u001b[39m(forest\u001b[39m.\u001b[39mscore(X_train, y_train), \u001b[39m2\u001b[39m) \u001b[39m*\u001b[39m \u001b[39m100\u001b[39m\u001b[39m}\u001b[39;00m\u001b[39m'\u001b[39m)\n\u001b[0;32m      2\u001b[0m \u001b[39mprint\u001b[39m(\u001b[39mf\u001b[39m\u001b[39m'\u001b[39m\u001b[39m Test score: \u001b[39m\u001b[39m{\u001b[39;00m\u001b[39mround\u001b[39m(forest\u001b[39m.\u001b[39mscore(X_test, y_test), \u001b[39m2\u001b[39m) \u001b[39m*\u001b[39m \u001b[39m100\u001b[39m\u001b[39m}\u001b[39;00m\u001b[39m'\u001b[39m)\n",
      "\u001b[1;31mNameError\u001b[0m: name 'forest' is not defined"
     ]
    }
   ],
   "source": [
    "print(f' Train score: {round(forest.score(X_train, y_train), 2) * 100}')\n",
    "print(f' Test score: {round(forest.score(X_test, y_test), 2) * 100}')"
   ]
  },
  {
   "cell_type": "code",
   "execution_count": 58,
   "metadata": {},
   "outputs": [
    {
     "name": "stderr",
     "output_type": "stream",
     "text": [
      "d:\\pythonProject\\ml\\venv\\Lib\\site-packages\\sklearn\\base.py:409: UserWarning: X does not have valid feature names, but RandomForestClassifier was fitted with feature names\n",
      "  warnings.warn(\n",
      "[Parallel(n_jobs=1)]: Using backend SequentialBackend with 1 concurrent workers.\n",
      "[Parallel(n_jobs=1)]: Done 100 out of 100 | elapsed:    0.0s finished\n"
     ]
    }
   ],
   "source": [
    "forest_predict = rf.predict([[1, 1, 1, 1, 0, 0, 0, 0, 0, 0, 0, 0, 0, 0, 0, 0, 0, 0, 0, 0, 0, 0, 0, 0, 0, 0, 0, 0, 0, 0, 0, 0, 0, 0, 0, 0, 0, 0, 0, 0, 0, 0, 0, 0, 0, 0, 0, 0, 0, 0, 0, 0, 0, 0, 0, 0, 0, 0, 0, 0, 0, 0, 0, 0, 0, 0, 0, 0, 0, 0, 0, 0, 0, 0, 0, 0, 0, 0, 0, 0, 0, 0, 0, 0, 0, 0, 0, 0, 0, 0, 0, 0, 0, 0, 0, 0, 0, 0, 0, 0, 0, 0, 0, 0, 0, 0, 0, 0, 0, 0, 0, 0, 0, 0, 0, 0, 0, 0, 0, 0, 0, 0, 0, 0, 0, 0, 0, 0, 0, 0, 0, 0]])"
   ]
  },
  {
   "cell_type": "code",
   "execution_count": 57,
   "metadata": {},
   "outputs": [
    {
     "name": "stdout",
     "output_type": "stream",
     "text": [
      "[0, 0, 0, 0, 0, 0, 0, 0, 0, 0, 0, 0, 0, 0, 1, 0, 0, 0, 0, 0, 0, 0, 0, 0, 0, 0, 0, 0, 0, 0, 0, 1, 0, 0, 0, 0, 0, 0, 0, 0, 0, 0, 0, 0, 0, 0, 0, 0, 0, 0, 0, 0, 0, 0, 0, 0, 0, 0, 0, 0, 0, 0, 0, 0, 0, 0, 0, 0, 0, 0, 0, 0, 0, 0, 0, 0, 0, 0, 0, 0, 0, 0, 0, 0, 0, 0, 0, 0, 0, 0, 0, 0, 0, 0, 0, 0, 0, 0, 0, 0, 0, 0, 0, 0, 0, 0, 0, 0, 0, 0, 0, 0, 0, 0, 0, 0, 0, 0, 0, 0, 0, 0, 0, 0, 0, 0, 0, 0, 0, 0, 0, 0]\n",
      "6\n"
     ]
    },
    {
     "name": "stderr",
     "output_type": "stream",
     "text": [
      "d:\\pythonProject\\ml\\venv\\Lib\\site-packages\\sklearn\\base.py:409: UserWarning: X does not have valid feature names, but RandomForestClassifier was fitted with feature names\n",
      "  warnings.warn(\n",
      "[Parallel(n_jobs=1)]: Using backend SequentialBackend with 1 concurrent workers.\n",
      "[Parallel(n_jobs=1)]: Done 100 out of 100 | elapsed:    0.0s finished\n"
     ]
    }
   ],
   "source": [
    "import itertools\n",
    "def predict_clinic():\n",
    "    data = ['fatigue', 'headache']\n",
    "    for i in range(len(symptoms)):\n",
    "        for k in data:\n",
    "            if(k==symptoms[i]):\n",
    "                result[i]=1\n",
    "    print(result)\n",
    "    pred = rf.predict([result])\n",
    "    return pred[0]\n",
    "\n",
    "print(predict_clinic())"
   ]
  },
  {
   "cell_type": "code",
   "execution_count": null,
   "metadata": {},
   "outputs": [],
   "source": []
  }
 ],
 "metadata": {
  "kernelspec": {
   "display_name": "venv",
   "language": "python",
   "name": "python3"
  },
  "language_info": {
   "codemirror_mode": {
    "name": "ipython",
    "version": 3
   },
   "file_extension": ".py",
   "mimetype": "text/x-python",
   "name": "python",
   "nbconvert_exporter": "python",
   "pygments_lexer": "ipython3",
   "version": "3.11.0"
  },
  "vscode": {
   "interpreter": {
    "hash": "347ddf3ceb34605a22ca84c35ba17a556bfa0b014763ce84418f7237b9039da7"
   }
  }
 },
 "nbformat": 4,
 "nbformat_minor": 2
}
